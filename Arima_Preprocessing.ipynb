{
 "cells": [
  {
   "cell_type": "code",
   "execution_count": 46,
   "id": "27f9e700",
   "metadata": {},
   "outputs": [],
   "source": [
    "import pandas as pd\n",
    "import matplotlib.pyplot as plt\n",
    "import seaborn as sns"
   ]
  },
  {
   "cell_type": "code",
   "execution_count": 47,
   "id": "a19644ca",
   "metadata": {},
   "outputs": [
    {
     "data": {
      "text/html": [
       "<div>\n",
       "<style scoped>\n",
       "    .dataframe tbody tr th:only-of-type {\n",
       "        vertical-align: middle;\n",
       "    }\n",
       "\n",
       "    .dataframe tbody tr th {\n",
       "        vertical-align: top;\n",
       "    }\n",
       "\n",
       "    .dataframe thead th {\n",
       "        text-align: right;\n",
       "    }\n",
       "</style>\n",
       "<table border=\"1\" class=\"dataframe\">\n",
       "  <thead>\n",
       "    <tr style=\"text-align: right;\">\n",
       "      <th></th>\n",
       "      <th>Age</th>\n",
       "      <th>SystolicBP</th>\n",
       "      <th>DiastolicBP</th>\n",
       "      <th>BS</th>\n",
       "      <th>BodyTemp</th>\n",
       "      <th>HeartRate</th>\n",
       "      <th>RiskLevel</th>\n",
       "    </tr>\n",
       "  </thead>\n",
       "  <tbody>\n",
       "    <tr>\n",
       "      <th>0</th>\n",
       "      <td>25</td>\n",
       "      <td>130</td>\n",
       "      <td>80</td>\n",
       "      <td>15.0</td>\n",
       "      <td>98.0</td>\n",
       "      <td>86</td>\n",
       "      <td>high risk</td>\n",
       "    </tr>\n",
       "    <tr>\n",
       "      <th>1</th>\n",
       "      <td>35</td>\n",
       "      <td>140</td>\n",
       "      <td>90</td>\n",
       "      <td>13.0</td>\n",
       "      <td>98.0</td>\n",
       "      <td>70</td>\n",
       "      <td>high risk</td>\n",
       "    </tr>\n",
       "    <tr>\n",
       "      <th>2</th>\n",
       "      <td>29</td>\n",
       "      <td>90</td>\n",
       "      <td>70</td>\n",
       "      <td>8.0</td>\n",
       "      <td>100.0</td>\n",
       "      <td>80</td>\n",
       "      <td>high risk</td>\n",
       "    </tr>\n",
       "    <tr>\n",
       "      <th>3</th>\n",
       "      <td>30</td>\n",
       "      <td>140</td>\n",
       "      <td>85</td>\n",
       "      <td>7.0</td>\n",
       "      <td>98.0</td>\n",
       "      <td>70</td>\n",
       "      <td>high risk</td>\n",
       "    </tr>\n",
       "    <tr>\n",
       "      <th>4</th>\n",
       "      <td>35</td>\n",
       "      <td>120</td>\n",
       "      <td>60</td>\n",
       "      <td>6.1</td>\n",
       "      <td>98.0</td>\n",
       "      <td>76</td>\n",
       "      <td>low risk</td>\n",
       "    </tr>\n",
       "  </tbody>\n",
       "</table>\n",
       "</div>"
      ],
      "text/plain": [
       "   Age  SystolicBP  DiastolicBP    BS  BodyTemp  HeartRate  RiskLevel\n",
       "0   25         130           80  15.0      98.0         86  high risk\n",
       "1   35         140           90  13.0      98.0         70  high risk\n",
       "2   29          90           70   8.0     100.0         80  high risk\n",
       "3   30         140           85   7.0      98.0         70  high risk\n",
       "4   35         120           60   6.1      98.0         76   low risk"
      ]
     },
     "execution_count": 47,
     "metadata": {},
     "output_type": "execute_result"
    }
   ],
   "source": [
    "data =pd.read_csv('Maternal_Health_Risk_Dataset.csv')\n",
    "data.head()"
   ]
  },
  {
   "cell_type": "code",
   "execution_count": 48,
   "id": "1af58648",
   "metadata": {},
   "outputs": [
    {
     "name": "stdout",
     "output_type": "stream",
     "text": [
      "<class 'pandas.core.frame.DataFrame'>\n",
      "RangeIndex: 1014 entries, 0 to 1013\n",
      "Data columns (total 7 columns):\n",
      " #   Column       Non-Null Count  Dtype  \n",
      "---  ------       --------------  -----  \n",
      " 0   Age          1014 non-null   int64  \n",
      " 1   SystolicBP   1014 non-null   int64  \n",
      " 2   DiastolicBP  1014 non-null   int64  \n",
      " 3   BS           1014 non-null   float64\n",
      " 4   BodyTemp     1014 non-null   float64\n",
      " 5   HeartRate    1014 non-null   int64  \n",
      " 6   RiskLevel    1014 non-null   object \n",
      "dtypes: float64(2), int64(4), object(1)\n",
      "memory usage: 55.6+ KB\n"
     ]
    }
   ],
   "source": [
    "data.info()"
   ]
  },
  {
   "cell_type": "markdown",
   "id": "0093ca7f",
   "metadata": {},
   "source": [
    "The dataset contains over **1000** entries and **7 columns** with no missing values"
   ]
  },
  {
   "cell_type": "code",
   "execution_count": 49,
   "id": "31c2b1ba",
   "metadata": {},
   "outputs": [
    {
     "data": {
      "text/plain": [
       "562"
      ]
     },
     "execution_count": 49,
     "metadata": {},
     "output_type": "execute_result"
    }
   ],
   "source": [
    "df=data.duplicated().sum()\n",
    "df"
   ]
  },
  {
   "cell_type": "code",
   "execution_count": 50,
   "id": "25f183dc",
   "metadata": {},
   "outputs": [
    {
     "name": "stdout",
     "output_type": "stream",
     "text": [
      "The total number of duplicated rows in the dataset is 562\n"
     ]
    }
   ],
   "source": [
    "print(f\"The total number of duplicated rows in the dataset is {df}\")"
   ]
  },
  {
   "cell_type": "code",
   "execution_count": 51,
   "id": "d7ac7077",
   "metadata": {},
   "outputs": [
    {
     "data": {
      "text/html": [
       "<div>\n",
       "<style scoped>\n",
       "    .dataframe tbody tr th:only-of-type {\n",
       "        vertical-align: middle;\n",
       "    }\n",
       "\n",
       "    .dataframe tbody tr th {\n",
       "        vertical-align: top;\n",
       "    }\n",
       "\n",
       "    .dataframe thead th {\n",
       "        text-align: right;\n",
       "    }\n",
       "</style>\n",
       "<table border=\"1\" class=\"dataframe\">\n",
       "  <thead>\n",
       "    <tr style=\"text-align: right;\">\n",
       "      <th></th>\n",
       "      <th>Age</th>\n",
       "      <th>SystolicBP</th>\n",
       "      <th>DiastolicBP</th>\n",
       "      <th>BS</th>\n",
       "      <th>BodyTemp</th>\n",
       "      <th>HeartRate</th>\n",
       "      <th>RiskLevel</th>\n",
       "    </tr>\n",
       "  </thead>\n",
       "  <tbody>\n",
       "    <tr>\n",
       "      <th>0</th>\n",
       "      <td>25</td>\n",
       "      <td>130</td>\n",
       "      <td>80</td>\n",
       "      <td>15.0</td>\n",
       "      <td>98.0</td>\n",
       "      <td>86</td>\n",
       "      <td>high risk</td>\n",
       "    </tr>\n",
       "    <tr>\n",
       "      <th>1</th>\n",
       "      <td>35</td>\n",
       "      <td>140</td>\n",
       "      <td>90</td>\n",
       "      <td>13.0</td>\n",
       "      <td>98.0</td>\n",
       "      <td>70</td>\n",
       "      <td>high risk</td>\n",
       "    </tr>\n",
       "    <tr>\n",
       "      <th>2</th>\n",
       "      <td>29</td>\n",
       "      <td>90</td>\n",
       "      <td>70</td>\n",
       "      <td>8.0</td>\n",
       "      <td>100.0</td>\n",
       "      <td>80</td>\n",
       "      <td>high risk</td>\n",
       "    </tr>\n",
       "    <tr>\n",
       "      <th>3</th>\n",
       "      <td>30</td>\n",
       "      <td>140</td>\n",
       "      <td>85</td>\n",
       "      <td>7.0</td>\n",
       "      <td>98.0</td>\n",
       "      <td>70</td>\n",
       "      <td>high risk</td>\n",
       "    </tr>\n",
       "    <tr>\n",
       "      <th>4</th>\n",
       "      <td>35</td>\n",
       "      <td>120</td>\n",
       "      <td>60</td>\n",
       "      <td>6.1</td>\n",
       "      <td>98.0</td>\n",
       "      <td>76</td>\n",
       "      <td>low risk</td>\n",
       "    </tr>\n",
       "    <tr>\n",
       "      <th>...</th>\n",
       "      <td>...</td>\n",
       "      <td>...</td>\n",
       "      <td>...</td>\n",
       "      <td>...</td>\n",
       "      <td>...</td>\n",
       "      <td>...</td>\n",
       "      <td>...</td>\n",
       "    </tr>\n",
       "    <tr>\n",
       "      <th>673</th>\n",
       "      <td>12</td>\n",
       "      <td>100</td>\n",
       "      <td>50</td>\n",
       "      <td>6.4</td>\n",
       "      <td>98.0</td>\n",
       "      <td>70</td>\n",
       "      <td>mid risk</td>\n",
       "    </tr>\n",
       "    <tr>\n",
       "      <th>674</th>\n",
       "      <td>15</td>\n",
       "      <td>100</td>\n",
       "      <td>60</td>\n",
       "      <td>6.0</td>\n",
       "      <td>98.0</td>\n",
       "      <td>80</td>\n",
       "      <td>low risk</td>\n",
       "    </tr>\n",
       "    <tr>\n",
       "      <th>703</th>\n",
       "      <td>15</td>\n",
       "      <td>100</td>\n",
       "      <td>49</td>\n",
       "      <td>7.6</td>\n",
       "      <td>98.0</td>\n",
       "      <td>77</td>\n",
       "      <td>low risk</td>\n",
       "    </tr>\n",
       "    <tr>\n",
       "      <th>704</th>\n",
       "      <td>12</td>\n",
       "      <td>100</td>\n",
       "      <td>50</td>\n",
       "      <td>6.0</td>\n",
       "      <td>98.0</td>\n",
       "      <td>70</td>\n",
       "      <td>mid risk</td>\n",
       "    </tr>\n",
       "    <tr>\n",
       "      <th>705</th>\n",
       "      <td>21</td>\n",
       "      <td>100</td>\n",
       "      <td>50</td>\n",
       "      <td>6.8</td>\n",
       "      <td>98.0</td>\n",
       "      <td>60</td>\n",
       "      <td>low risk</td>\n",
       "    </tr>\n",
       "  </tbody>\n",
       "</table>\n",
       "<p>452 rows × 7 columns</p>\n",
       "</div>"
      ],
      "text/plain": [
       "     Age  SystolicBP  DiastolicBP    BS  BodyTemp  HeartRate  RiskLevel\n",
       "0     25         130           80  15.0      98.0         86  high risk\n",
       "1     35         140           90  13.0      98.0         70  high risk\n",
       "2     29          90           70   8.0     100.0         80  high risk\n",
       "3     30         140           85   7.0      98.0         70  high risk\n",
       "4     35         120           60   6.1      98.0         76   low risk\n",
       "..   ...         ...          ...   ...       ...        ...        ...\n",
       "673   12         100           50   6.4      98.0         70   mid risk\n",
       "674   15         100           60   6.0      98.0         80   low risk\n",
       "703   15         100           49   7.6      98.0         77   low risk\n",
       "704   12         100           50   6.0      98.0         70   mid risk\n",
       "705   21         100           50   6.8      98.0         60   low risk\n",
       "\n",
       "[452 rows x 7 columns]"
      ]
     },
     "execution_count": 51,
     "metadata": {},
     "output_type": "execute_result"
    }
   ],
   "source": [
    "data.drop_duplicates(inplace=True)\n",
    "data"
   ]
  },
  {
   "cell_type": "markdown",
   "id": "157bae77",
   "metadata": {},
   "source": [
    "# EDA"
   ]
  },
  {
   "cell_type": "code",
   "execution_count": 68,
   "id": "8a422495",
   "metadata": {},
   "outputs": [
    {
     "data": {
      "text/html": [
       "<div>\n",
       "<style scoped>\n",
       "    .dataframe tbody tr th:only-of-type {\n",
       "        vertical-align: middle;\n",
       "    }\n",
       "\n",
       "    .dataframe tbody tr th {\n",
       "        vertical-align: top;\n",
       "    }\n",
       "\n",
       "    .dataframe thead th {\n",
       "        text-align: right;\n",
       "    }\n",
       "</style>\n",
       "<table border=\"1\" class=\"dataframe\">\n",
       "  <thead>\n",
       "    <tr style=\"text-align: right;\">\n",
       "      <th></th>\n",
       "      <th>Age</th>\n",
       "      <th>SystolicBP</th>\n",
       "      <th>DiastolicBP</th>\n",
       "      <th>BS</th>\n",
       "      <th>BodyTemp</th>\n",
       "      <th>HeartRate</th>\n",
       "    </tr>\n",
       "  </thead>\n",
       "  <tbody>\n",
       "    <tr>\n",
       "      <th>count</th>\n",
       "      <td>452.000000</td>\n",
       "      <td>452.000000</td>\n",
       "      <td>452.000000</td>\n",
       "      <td>452.000000</td>\n",
       "      <td>452.000000</td>\n",
       "      <td>452.000000</td>\n",
       "    </tr>\n",
       "    <tr>\n",
       "      <th>mean</th>\n",
       "      <td>29.194690</td>\n",
       "      <td>110.553097</td>\n",
       "      <td>75.418142</td>\n",
       "      <td>8.346173</td>\n",
       "      <td>98.692478</td>\n",
       "      <td>73.949115</td>\n",
       "    </tr>\n",
       "    <tr>\n",
       "      <th>std</th>\n",
       "      <td>13.767379</td>\n",
       "      <td>17.872282</td>\n",
       "      <td>13.754578</td>\n",
       "      <td>2.829209</td>\n",
       "      <td>1.410897</td>\n",
       "      <td>8.156973</td>\n",
       "    </tr>\n",
       "    <tr>\n",
       "      <th>min</th>\n",
       "      <td>10.000000</td>\n",
       "      <td>70.000000</td>\n",
       "      <td>49.000000</td>\n",
       "      <td>6.000000</td>\n",
       "      <td>98.000000</td>\n",
       "      <td>7.000000</td>\n",
       "    </tr>\n",
       "    <tr>\n",
       "      <th>25%</th>\n",
       "      <td>19.000000</td>\n",
       "      <td>90.000000</td>\n",
       "      <td>65.000000</td>\n",
       "      <td>6.900000</td>\n",
       "      <td>98.000000</td>\n",
       "      <td>70.000000</td>\n",
       "    </tr>\n",
       "    <tr>\n",
       "      <th>50%</th>\n",
       "      <td>25.000000</td>\n",
       "      <td>120.000000</td>\n",
       "      <td>80.000000</td>\n",
       "      <td>7.500000</td>\n",
       "      <td>98.000000</td>\n",
       "      <td>76.000000</td>\n",
       "    </tr>\n",
       "    <tr>\n",
       "      <th>75%</th>\n",
       "      <td>35.000000</td>\n",
       "      <td>120.000000</td>\n",
       "      <td>86.000000</td>\n",
       "      <td>7.900000</td>\n",
       "      <td>98.000000</td>\n",
       "      <td>80.000000</td>\n",
       "    </tr>\n",
       "    <tr>\n",
       "      <th>max</th>\n",
       "      <td>70.000000</td>\n",
       "      <td>160.000000</td>\n",
       "      <td>100.000000</td>\n",
       "      <td>19.000000</td>\n",
       "      <td>103.000000</td>\n",
       "      <td>90.000000</td>\n",
       "    </tr>\n",
       "  </tbody>\n",
       "</table>\n",
       "</div>"
      ],
      "text/plain": [
       "              Age  SystolicBP  DiastolicBP          BS    BodyTemp   HeartRate\n",
       "count  452.000000  452.000000   452.000000  452.000000  452.000000  452.000000\n",
       "mean    29.194690  110.553097    75.418142    8.346173   98.692478   73.949115\n",
       "std     13.767379   17.872282    13.754578    2.829209    1.410897    8.156973\n",
       "min     10.000000   70.000000    49.000000    6.000000   98.000000    7.000000\n",
       "25%     19.000000   90.000000    65.000000    6.900000   98.000000   70.000000\n",
       "50%     25.000000  120.000000    80.000000    7.500000   98.000000   76.000000\n",
       "75%     35.000000  120.000000    86.000000    7.900000   98.000000   80.000000\n",
       "max     70.000000  160.000000   100.000000   19.000000  103.000000   90.000000"
      ]
     },
     "execution_count": 68,
     "metadata": {},
     "output_type": "execute_result"
    }
   ],
   "source": [
    "data.describe()"
   ]
  },
  {
   "cell_type": "markdown",
   "id": "a275c675",
   "metadata": {},
   "source": [
    "- The average age of the reported pregnant patient in the dataset is about **29 years**\n",
    "- The youngest reported patient in the dataset is **10 years**\n",
    "- The oldest patient in the dataset is **70 years of age**\n",
    "- The highest reported blood sugar level in the dataset is **19mm0l/L**\n",
    "- The lowest Diastolic blood pressure in the dataset is **49mmHg**\n",
    "- The lowest reported heart rate in the dataset is **7beats/min**\n",
    "- The average systolic blood pressure in the dataset is about **113mmHg**"
   ]
  },
  {
   "cell_type": "markdown",
   "id": "3f211da8",
   "metadata": {},
   "source": [
    "## Demography"
   ]
  },
  {
   "cell_type": "code",
   "execution_count": 53,
   "id": "db6cb95b",
   "metadata": {},
   "outputs": [
    {
     "data": {
      "image/png": "[encoded data removed]",
      "text/plain": [
       "<Figure size 576x432 with 1 Axes>"
      ]
     },
     "metadata": {
      "needs_background": "light"
     },
     "output_type": "display_data"
    }
   ],
   "source": [
    "plt.figure(figsize=(8,6))\n",
    "sns.kdeplot(data['Age'], shade=True)\n",
    "plt.title('Age distirbution among pregnant patients')\n",
    "plt.show()"
   ]
  },
  {
   "cell_type": "markdown",
   "id": "c83f0adf",
   "metadata": {},
   "source": [
    "Most of the pregnant patients in the dataset are below their **forties**"
   ]
  },
  {
   "cell_type": "markdown",
   "id": "47fd43ae",
   "metadata": {},
   "source": [
    "# Age and Risk Level"
   ]
  },
  {
   "cell_type": "code",
   "execution_count": 54,
   "id": "49e075b6",
   "metadata": {},
   "outputs": [
    {
     "data": {
      "image/png": "[encoded data removed]",
      "text/plain": [
       "<Figure size 576x432 with 1 Axes>"
      ]
     },
     "metadata": {
      "needs_background": "light"
     },
     "output_type": "display_data"
    }
   ],
   "source": [
    "plt.figure(figsize=(8,6))\n",
    "sns.kdeplot(x='Age', shade=True, hue='RiskLevel', data = data, \n",
    "hue_order=['low risk','mid risk','high risk'], palette=['green','yellow','red'],alpha=.5)\n",
    "plt.title('Age distirbution among pregnant patients')\n",
    "plt.show()"
   ]
  },
  {
   "cell_type": "markdown",
   "id": "44215c02",
   "metadata": {},
   "source": [
    "The humps on the distribution signifies that age plays a factor in the risk level of maternal patients.**young** patients are more likely to experience **low and mid risk levels**, while **old patients** are prone to **high risk level**"
   ]
  },
  {
   "cell_type": "markdown",
   "id": "6f9f28bf",
   "metadata": {},
   "source": [
    "# Risk Level"
   ]
  },
  {
   "cell_type": "code",
   "execution_count": 88,
   "id": "b7e129d9",
   "metadata": {},
   "outputs": [
    {
     "data": {
      "text/plain": [
       "array(['high risk', 'low risk', 'mid risk'], dtype=object)"
      ]
     },
     "execution_count": 88,
     "metadata": {},
     "output_type": "execute_result"
    }
   ],
   "source": [
    "data.RiskLevel.unique()"
   ]
  },
  {
   "cell_type": "code",
   "execution_count": 82,
   "id": "faf041eb",
   "metadata": {},
   "outputs": [
    {
     "data": {
      "text/plain": [
       "low risk     234\n",
       "high risk    112\n",
       "mid risk     106\n",
       "Name: RiskLevel, dtype: int64"
      ]
     },
     "execution_count": 82,
     "metadata": {},
     "output_type": "execute_result"
    }
   ],
   "source": [
    "Risk_level =data.RiskLevel.value_counts()\n",
    "Risk_level"
   ]
  },
  {
   "cell_type": "code",
   "execution_count": 85,
   "id": "4329f4d2",
   "metadata": {},
   "outputs": [
    {
     "data": {
      "image/png": "[encoded data removed]",
      "text/plain": [
       "<Figure size 576x432 with 1 Axes>"
      ]
     },
     "metadata": {},
     "output_type": "display_data"
    }
   ],
   "source": [
    "plt.figure(figsize=(8,6))\n",
    "plt.pie(Risk_level.values, labels=Risk_level.index, autopct='%.2f')\n",
    "plt.show()"
   ]
  },
  {
   "cell_type": "markdown",
   "id": "58e40191",
   "metadata": {},
   "source": [
    "Around **a quarter** of the pregnant patients in the dataset suffer high risk of health levels"
   ]
  },
  {
   "cell_type": "markdown",
   "id": "cfca1a83",
   "metadata": {},
   "source": [
    "# Age and Risk Level"
   ]
  },
  {
   "cell_type": "code",
   "execution_count": 74,
   "id": "89e50d79",
   "metadata": {},
   "outputs": [
    {
     "data": {
      "image/png": "[encoded data removed]",
      "text/plain": [
       "<Figure size 720x432 with 1 Axes>"
      ]
     },
     "metadata": {
      "needs_background": "light"
     },
     "output_type": "display_data"
    }
   ],
   "source": [
    "plt.figure(figsize=(10,6))\n",
    "sns.boxplot(x='RiskLevel', y='Age', data=data, order=['low risk', 'mid risk', 'high risk'])\n",
    "plt.xlabel('RiskLevel')\n",
    "plt.ylabel('Age')\n",
    "plt.title('Age distribution of patients against their Risk level');"
   ]
  },
  {
   "cell_type": "markdown",
   "id": "7c5f9cf7",
   "metadata": {},
   "source": [
    "The boxplot shows a positive correlation between **age and risk level**.The older a patient, the higher their health risk level"
   ]
  },
  {
   "cell_type": "markdown",
   "id": "d9664f88",
   "metadata": {},
   "source": [
    "# Diastolic BP and Risk Level"
   ]
  },
  {
   "cell_type": "code",
   "execution_count": 75,
   "id": "b9df3043",
   "metadata": {},
   "outputs": [
    {
     "data": {
      "image/png": "[encoded data removed]",
      "text/plain": [
       "<Figure size 720x432 with 1 Axes>"
      ]
     },
     "metadata": {
      "needs_background": "light"
     },
     "output_type": "display_data"
    }
   ],
   "source": [
    "plt.figure(figsize=(10,6))\n",
    "sns.boxplot(x='RiskLevel', y='DiastolicBP', data=data, order=['low risk', 'mid risk', 'high risk'])\n",
    "plt.title('Diastolic BP against Risk level');"
   ]
  },
  {
   "cell_type": "markdown",
   "id": "2419dca2",
   "metadata": {},
   "source": [
    "A fairly positive correlation between diastolic blood pressure and risk level.Patients with low diastolic pressure are less likely to suffer health risk"
   ]
  },
  {
   "cell_type": "code",
   "execution_count": 76,
   "id": "f520e4e5",
   "metadata": {},
   "outputs": [
    {
     "data": {
      "image/png": "[encoded data removed]",
      "text/plain": [
       "<Figure size 720x432 with 1 Axes>"
      ]
     },
     "metadata": {
      "needs_background": "light"
     },
     "output_type": "display_data"
    }
   ],
   "source": [
    "plt.figure(figsize=(10,6))\n",
    "sns.boxplot(x='RiskLevel', y='SystolicBP', data=data, order=['low risk', 'mid risk', 'high risk'])\n",
    "plt.title('Systolic BP against Risk level');"
   ]
  },
  {
   "cell_type": "markdown",
   "id": "88ce60eb",
   "metadata": {},
   "source": [
    "A fairly positive correlation between systolic blood pressure and risk level."
   ]
  },
  {
   "cell_type": "markdown",
   "id": "32cb5571",
   "metadata": {},
   "source": [
    "# Blood Sugar Level against Risk level"
   ]
  },
  {
   "cell_type": "code",
   "execution_count": 77,
   "id": "97d69e76",
   "metadata": {},
   "outputs": [
    {
     "data": {
      "image/png": "[encoded data removed]",
      "text/plain": [
       "<Figure size 720x432 with 1 Axes>"
      ]
     },
     "metadata": {
      "needs_background": "light"
     },
     "output_type": "display_data"
    }
   ],
   "source": [
    "plt.figure(figsize=(10,6))\n",
    "sns.boxplot(x='RiskLevel', y='BS', data=data, order=['low risk', 'mid risk', 'high risk'])\n",
    "plt.title('Blood Sugar Level against Risk level');"
   ]
  },
  {
   "cell_type": "markdown",
   "id": "40391509",
   "metadata": {},
   "source": [
    "There seems to be relationship between blood sugar level and risk level.Patients with high blood sugar tends to be at high health risk"
   ]
  },
  {
   "cell_type": "markdown",
   "id": "80553be1",
   "metadata": {},
   "source": [
    "# Body Temperature against Risk level"
   ]
  },
  {
   "cell_type": "code",
   "execution_count": 78,
   "id": "dfef41f3",
   "metadata": {},
   "outputs": [
    {
     "data": {
      "image/png": "[encoded data removed]",
      "text/plain": [
       "<Figure size 720x432 with 1 Axes>"
      ]
     },
     "metadata": {
      "needs_background": "light"
     },
     "output_type": "display_data"
    }
   ],
   "source": [
    "plt.figure(figsize=(10,6))\n",
    "sns.boxplot(x='RiskLevel', y='BodyTemp', data=data, order=['low risk', 'mid risk', 'high risk'])\n",
    "plt.title('Body Temperature against Risk level');"
   ]
  },
  {
   "cell_type": "markdown",
   "id": "2c5b4b8b",
   "metadata": {},
   "source": [
    "There doesn't seem to be a strong relationship between **body temperature and risk level**, as we have low-temperature patients with high risk level and vice versa"
   ]
  },
  {
   "cell_type": "code",
   "execution_count": 79,
   "id": "dc38f062",
   "metadata": {},
   "outputs": [
    {
     "data": {
      "image/png": "[encoded data removed]",
      "text/plain": [
       "<Figure size 720x432 with 1 Axes>"
      ]
     },
     "metadata": {
      "needs_background": "light"
     },
     "output_type": "display_data"
    }
   ],
   "source": [
    "plt.figure(figsize=(10,6))\n",
    "sns.boxplot(x='RiskLevel', y='HeartRate', data=data, order=['low risk', 'mid risk', 'high risk'])\n",
    "plt.title('Heart Rate against Risk level');"
   ]
  },
  {
   "cell_type": "markdown",
   "id": "d767eb42",
   "metadata": {},
   "source": [
    "There's a slight correlation between heart rate and risk level"
   ]
  },
  {
   "cell_type": "code",
   "execution_count": null,
   "id": "c34ab2ba",
   "metadata": {},
   "outputs": [],
   "source": []
  }
 ],
 "metadata": {
  "kernelspec": {
   "display_name": "Python 3",
   "language": "python",
   "name": "python3"
  },
  "language_info": {
   "codemirror_mode": {
    "name": "ipython",
    "version": 3
   },
   "file_extension": ".py",
   "mimetype": "text/x-python",
   "name": "python",
   "nbconvert_exporter": "python",
   "pygments_lexer": "ipython3",
   "version": "3.8.8"
  }
 },
 "nbformat": 4,
 "nbformat_minor": 5
}
